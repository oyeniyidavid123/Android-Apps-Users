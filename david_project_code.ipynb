{
 "cells": [
  {
   "cell_type": "code",
   "execution_count": null,
   "metadata": {},
   "outputs": [],
   "source": [
    "# import matplotlib.pyplot as plt\n",
    "# import pandas as pd\n",
    "# import numpy as np\n",
    "# from scipy.stats import linregress\n",
    "# from pprint import pprint"
   ]
  },
  {
   "cell_type": "code",
   "execution_count": null,
   "metadata": {},
   "outputs": [],
   "source": [
    "#loading of csv_file\n",
    "#data_df=pd.read_csv(\"Google-Playstore-32k.csv\",low_memory=False)\n",
    "#data_df=data_df.rename(columns={\"App Name\":\"App_Name\"})\n",
    "#selecting columns that are relevating in the dataset\n",
    "#data_df=data_df[[\"App_Name\",\"Category\",\"Rating\",\"Reviews\",\"Installs\",\"Size\",\"Price\",\"Content Rating\"]]\n",
    "#drop missing columns and rows\n",
    "#data_df.dropna()\n",
    "#data cleaning\n",
    "#data_df=data_df[~data_df.App_Name.str.contains(\"?\", regex=False)]\n",
    "#data_df=data_df[~data_df.Price.str.contains(\"M\", \"+\", na=False,regex=False)]\n",
    "#convert object to float\n",
    "#data_df.loc[:, \"Price\"] = data_df[\"Price\"].astype(float)\n",
    "#cleaning Rating\n",
    "# data_df = data_df[data_df[\"Rating\"] != 'NEWS_AND_MAGAZINES']\n",
    "# data_df = data_df[data_df[\"Rating\"] != 'GAME_STRATEGY']\n",
    "# data_df[\"Rating\"] = data_df[\"Rating\"].astype(float)\n",
    "#data_df[\"Category\"]=data_df[\"Category\"].replace('_', ' ', regex=True)\n",
    "#clean_df[\"Category\"].value_counts()\n",
    "#cleaned_df2 = clean_df.groupby([\"Category\"])\n",
    "# Total_Review = cleaned_df2[\"Reviews\"].sum()\n",
    "# Total_Review.head(50)\n",
    "#Ave_Rating = cleaned_df2[\"Rating\"].mean()\n",
    "#Ave_Rating.head(50)\n",
    "#top 5 most installed apps\n",
    "# Top_5_install_apps = clean_df.sort_values(by='Installs', ascending=False).loc[:,('App_Name', 'Category', 'Rating', 'Reviews', 'Installs')].reset_index()\n",
    "# Top_5_install_apps = Top_5_install_apps.drop(['index'], axis=1)\n",
    "# Top_5_install_apps.head(5)\n",
    "#Total_Installs = cleaned_df2[\"Installs\"].sum()\n",
    "#Total_Installs.head(50)\n",
    "#top 5 most reviewed apps\n",
    "#top 5 most reviewed apps\n",
    "# Top_5_most_Review_apps = clean_df.sort_values(by='Reviews', ascending=False).loc[:,('App_Name', 'Category', 'Rating', 'Reviews', 'Installs')].reset_index()\n",
    "# Top_5_most_Review_apps = Top_5_most_Review_apps.drop(['index'], axis=1)\n",
    "# Top_5_most_Review_apps.head(5)\n",
    "#plt grapgh\n",
    "# x_axis = np.arange(len(cleaned_df2[\"Reviews\"]))  \n",
    "# total_review = ax.bar(x_axis[0:], Total_Review[0:], color='lightgreen')\n",
    "# ax.set_title('Google Play - Total Reviews For Each Category',fontsize=100)\n",
    "# ax.set_ylabel('Total Number of Reviews',fontsize=80)\n",
    "# ax.set_xlabel('App Category',fontsize=80)\n",
    "# ax.set_xticks(x_axis+0.3)"
   ]
  }
 ],
 "metadata": {
  "kernelspec": {
   "display_name": "Python 3",
   "language": "python",
   "name": "python3"
  },
  "language_info": {
   "codemirror_mode": {
    "name": "ipython",
    "version": 3
   },
   "file_extension": ".py",
   "mimetype": "text/x-python",
   "name": "python",
   "nbconvert_exporter": "python",
   "pygments_lexer": "ipython3",
   "version": "3.7.4"
  }
 },
 "nbformat": 4,
 "nbformat_minor": 2
}
