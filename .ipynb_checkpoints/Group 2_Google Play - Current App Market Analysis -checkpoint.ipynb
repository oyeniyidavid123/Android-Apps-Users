{
 "cells": [
  {
   "cell_type": "code",
   "execution_count": 1,
   "metadata": {},
   "outputs": [],
   "source": [
    "import matplotlib.pyplot as plt\n",
    "import pandas as pd\n",
    "import numpy as np\n",
    "from scipy.stats import linregress\n",
    "from pprint import pprint"
   ]
  },
  {
   "cell_type": "code",
   "execution_count": 2,
   "metadata": {},
   "outputs": [
    {
     "ename": "FileNotFoundError",
     "evalue": "[Errno 2] File b'Google-Playstore-Full.csv' does not exist: b'Google-Playstore-Full.csv'",
     "output_type": "error",
     "traceback": [
      "\u001b[0;31m---------------------------------------------------------------------------\u001b[0m",
      "\u001b[0;31mFileNotFoundError\u001b[0m                         Traceback (most recent call last)",
      "\u001b[0;32m<ipython-input-2-6bc77f25387a>\u001b[0m in \u001b[0;36m<module>\u001b[0;34m\u001b[0m\n\u001b[0;32m----> 1\u001b[0;31m \u001b[0mdata_df\u001b[0m\u001b[0;34m=\u001b[0m\u001b[0mpd\u001b[0m\u001b[0;34m.\u001b[0m\u001b[0mread_csv\u001b[0m\u001b[0;34m(\u001b[0m\u001b[0;34m\"Google-Playstore-Full.csv\"\u001b[0m\u001b[0;34m,\u001b[0m\u001b[0mlow_memory\u001b[0m\u001b[0;34m=\u001b[0m\u001b[0;32mFalse\u001b[0m\u001b[0;34m)\u001b[0m\u001b[0;34m\u001b[0m\u001b[0;34m\u001b[0m\u001b[0m\n\u001b[0m\u001b[1;32m      2\u001b[0m \u001b[0mdata_df\u001b[0m\u001b[0;34m=\u001b[0m\u001b[0mdata_df\u001b[0m\u001b[0;34m[\u001b[0m\u001b[0;34m[\u001b[0m\u001b[0;34m\"App Name\"\u001b[0m\u001b[0;34m,\u001b[0m\u001b[0;34m\"Category\"\u001b[0m\u001b[0;34m,\u001b[0m\u001b[0;34m\"Rating\"\u001b[0m\u001b[0;34m,\u001b[0m\u001b[0;34m\"Reviews\"\u001b[0m\u001b[0;34m,\u001b[0m\u001b[0;34m\"Installs\"\u001b[0m\u001b[0;34m,\u001b[0m\u001b[0;34m\"Size\"\u001b[0m\u001b[0;34m,\u001b[0m\u001b[0;34m\"Price\"\u001b[0m\u001b[0;34m,\u001b[0m\u001b[0;34m\"Content Rating\"\u001b[0m\u001b[0;34m]\u001b[0m\u001b[0;34m]\u001b[0m\u001b[0;34m\u001b[0m\u001b[0;34m\u001b[0m\u001b[0m\n\u001b[1;32m      3\u001b[0m \u001b[0mdata_df\u001b[0m\u001b[0;34m.\u001b[0m\u001b[0mdropna\u001b[0m\u001b[0;34m(\u001b[0m\u001b[0;34m)\u001b[0m\u001b[0;34m\u001b[0m\u001b[0;34m\u001b[0m\u001b[0m\n\u001b[1;32m      4\u001b[0m \u001b[0mdata_df\u001b[0m\u001b[0;34m=\u001b[0m\u001b[0mdata_df\u001b[0m\u001b[0;34m.\u001b[0m\u001b[0mrename\u001b[0m\u001b[0;34m(\u001b[0m\u001b[0mcolumns\u001b[0m\u001b[0;34m=\u001b[0m\u001b[0;34m{\u001b[0m\u001b[0;34m\"App Name\"\u001b[0m\u001b[0;34m:\u001b[0m\u001b[0;34m\"App_Name\"\u001b[0m\u001b[0;34m}\u001b[0m\u001b[0;34m)\u001b[0m\u001b[0;34m\u001b[0m\u001b[0;34m\u001b[0m\u001b[0m\n\u001b[1;32m      5\u001b[0m \u001b[0mdata_df\u001b[0m\u001b[0;34m\u001b[0m\u001b[0;34m\u001b[0m\u001b[0m\n",
      "\u001b[0;32m~/anaconda3/envs/PythonData/lib/python3.6/site-packages/pandas/io/parsers.py\u001b[0m in \u001b[0;36mparser_f\u001b[0;34m(filepath_or_buffer, sep, delimiter, header, names, index_col, usecols, squeeze, prefix, mangle_dupe_cols, dtype, engine, converters, true_values, false_values, skipinitialspace, skiprows, skipfooter, nrows, na_values, keep_default_na, na_filter, verbose, skip_blank_lines, parse_dates, infer_datetime_format, keep_date_col, date_parser, dayfirst, cache_dates, iterator, chunksize, compression, thousands, decimal, lineterminator, quotechar, quoting, doublequote, escapechar, comment, encoding, dialect, error_bad_lines, warn_bad_lines, delim_whitespace, low_memory, memory_map, float_precision)\u001b[0m\n\u001b[1;32m    683\u001b[0m         )\n\u001b[1;32m    684\u001b[0m \u001b[0;34m\u001b[0m\u001b[0m\n\u001b[0;32m--> 685\u001b[0;31m         \u001b[0;32mreturn\u001b[0m \u001b[0m_read\u001b[0m\u001b[0;34m(\u001b[0m\u001b[0mfilepath_or_buffer\u001b[0m\u001b[0;34m,\u001b[0m \u001b[0mkwds\u001b[0m\u001b[0;34m)\u001b[0m\u001b[0;34m\u001b[0m\u001b[0;34m\u001b[0m\u001b[0m\n\u001b[0m\u001b[1;32m    686\u001b[0m \u001b[0;34m\u001b[0m\u001b[0m\n\u001b[1;32m    687\u001b[0m     \u001b[0mparser_f\u001b[0m\u001b[0;34m.\u001b[0m\u001b[0m__name__\u001b[0m \u001b[0;34m=\u001b[0m \u001b[0mname\u001b[0m\u001b[0;34m\u001b[0m\u001b[0;34m\u001b[0m\u001b[0m\n",
      "\u001b[0;32m~/anaconda3/envs/PythonData/lib/python3.6/site-packages/pandas/io/parsers.py\u001b[0m in \u001b[0;36m_read\u001b[0;34m(filepath_or_buffer, kwds)\u001b[0m\n\u001b[1;32m    455\u001b[0m \u001b[0;34m\u001b[0m\u001b[0m\n\u001b[1;32m    456\u001b[0m     \u001b[0;31m# Create the parser.\u001b[0m\u001b[0;34m\u001b[0m\u001b[0;34m\u001b[0m\u001b[0;34m\u001b[0m\u001b[0m\n\u001b[0;32m--> 457\u001b[0;31m     \u001b[0mparser\u001b[0m \u001b[0;34m=\u001b[0m \u001b[0mTextFileReader\u001b[0m\u001b[0;34m(\u001b[0m\u001b[0mfp_or_buf\u001b[0m\u001b[0;34m,\u001b[0m \u001b[0;34m**\u001b[0m\u001b[0mkwds\u001b[0m\u001b[0;34m)\u001b[0m\u001b[0;34m\u001b[0m\u001b[0;34m\u001b[0m\u001b[0m\n\u001b[0m\u001b[1;32m    458\u001b[0m \u001b[0;34m\u001b[0m\u001b[0m\n\u001b[1;32m    459\u001b[0m     \u001b[0;32mif\u001b[0m \u001b[0mchunksize\u001b[0m \u001b[0;32mor\u001b[0m \u001b[0miterator\u001b[0m\u001b[0;34m:\u001b[0m\u001b[0;34m\u001b[0m\u001b[0;34m\u001b[0m\u001b[0m\n",
      "\u001b[0;32m~/anaconda3/envs/PythonData/lib/python3.6/site-packages/pandas/io/parsers.py\u001b[0m in \u001b[0;36m__init__\u001b[0;34m(self, f, engine, **kwds)\u001b[0m\n\u001b[1;32m    893\u001b[0m             \u001b[0mself\u001b[0m\u001b[0;34m.\u001b[0m\u001b[0moptions\u001b[0m\u001b[0;34m[\u001b[0m\u001b[0;34m\"has_index_names\"\u001b[0m\u001b[0;34m]\u001b[0m \u001b[0;34m=\u001b[0m \u001b[0mkwds\u001b[0m\u001b[0;34m[\u001b[0m\u001b[0;34m\"has_index_names\"\u001b[0m\u001b[0;34m]\u001b[0m\u001b[0;34m\u001b[0m\u001b[0;34m\u001b[0m\u001b[0m\n\u001b[1;32m    894\u001b[0m \u001b[0;34m\u001b[0m\u001b[0m\n\u001b[0;32m--> 895\u001b[0;31m         \u001b[0mself\u001b[0m\u001b[0;34m.\u001b[0m\u001b[0m_make_engine\u001b[0m\u001b[0;34m(\u001b[0m\u001b[0mself\u001b[0m\u001b[0;34m.\u001b[0m\u001b[0mengine\u001b[0m\u001b[0;34m)\u001b[0m\u001b[0;34m\u001b[0m\u001b[0;34m\u001b[0m\u001b[0m\n\u001b[0m\u001b[1;32m    896\u001b[0m \u001b[0;34m\u001b[0m\u001b[0m\n\u001b[1;32m    897\u001b[0m     \u001b[0;32mdef\u001b[0m \u001b[0mclose\u001b[0m\u001b[0;34m(\u001b[0m\u001b[0mself\u001b[0m\u001b[0;34m)\u001b[0m\u001b[0;34m:\u001b[0m\u001b[0;34m\u001b[0m\u001b[0;34m\u001b[0m\u001b[0m\n",
      "\u001b[0;32m~/anaconda3/envs/PythonData/lib/python3.6/site-packages/pandas/io/parsers.py\u001b[0m in \u001b[0;36m_make_engine\u001b[0;34m(self, engine)\u001b[0m\n\u001b[1;32m   1133\u001b[0m     \u001b[0;32mdef\u001b[0m \u001b[0m_make_engine\u001b[0m\u001b[0;34m(\u001b[0m\u001b[0mself\u001b[0m\u001b[0;34m,\u001b[0m \u001b[0mengine\u001b[0m\u001b[0;34m=\u001b[0m\u001b[0;34m\"c\"\u001b[0m\u001b[0;34m)\u001b[0m\u001b[0;34m:\u001b[0m\u001b[0;34m\u001b[0m\u001b[0;34m\u001b[0m\u001b[0m\n\u001b[1;32m   1134\u001b[0m         \u001b[0;32mif\u001b[0m \u001b[0mengine\u001b[0m \u001b[0;34m==\u001b[0m \u001b[0;34m\"c\"\u001b[0m\u001b[0;34m:\u001b[0m\u001b[0;34m\u001b[0m\u001b[0;34m\u001b[0m\u001b[0m\n\u001b[0;32m-> 1135\u001b[0;31m             \u001b[0mself\u001b[0m\u001b[0;34m.\u001b[0m\u001b[0m_engine\u001b[0m \u001b[0;34m=\u001b[0m \u001b[0mCParserWrapper\u001b[0m\u001b[0;34m(\u001b[0m\u001b[0mself\u001b[0m\u001b[0;34m.\u001b[0m\u001b[0mf\u001b[0m\u001b[0;34m,\u001b[0m \u001b[0;34m**\u001b[0m\u001b[0mself\u001b[0m\u001b[0;34m.\u001b[0m\u001b[0moptions\u001b[0m\u001b[0;34m)\u001b[0m\u001b[0;34m\u001b[0m\u001b[0;34m\u001b[0m\u001b[0m\n\u001b[0m\u001b[1;32m   1136\u001b[0m         \u001b[0;32melse\u001b[0m\u001b[0;34m:\u001b[0m\u001b[0;34m\u001b[0m\u001b[0;34m\u001b[0m\u001b[0m\n\u001b[1;32m   1137\u001b[0m             \u001b[0;32mif\u001b[0m \u001b[0mengine\u001b[0m \u001b[0;34m==\u001b[0m \u001b[0;34m\"python\"\u001b[0m\u001b[0;34m:\u001b[0m\u001b[0;34m\u001b[0m\u001b[0;34m\u001b[0m\u001b[0m\n",
      "\u001b[0;32m~/anaconda3/envs/PythonData/lib/python3.6/site-packages/pandas/io/parsers.py\u001b[0m in \u001b[0;36m__init__\u001b[0;34m(self, src, **kwds)\u001b[0m\n\u001b[1;32m   1915\u001b[0m         \u001b[0mkwds\u001b[0m\u001b[0;34m[\u001b[0m\u001b[0;34m\"usecols\"\u001b[0m\u001b[0;34m]\u001b[0m \u001b[0;34m=\u001b[0m \u001b[0mself\u001b[0m\u001b[0;34m.\u001b[0m\u001b[0musecols\u001b[0m\u001b[0;34m\u001b[0m\u001b[0;34m\u001b[0m\u001b[0m\n\u001b[1;32m   1916\u001b[0m \u001b[0;34m\u001b[0m\u001b[0m\n\u001b[0;32m-> 1917\u001b[0;31m         \u001b[0mself\u001b[0m\u001b[0;34m.\u001b[0m\u001b[0m_reader\u001b[0m \u001b[0;34m=\u001b[0m \u001b[0mparsers\u001b[0m\u001b[0;34m.\u001b[0m\u001b[0mTextReader\u001b[0m\u001b[0;34m(\u001b[0m\u001b[0msrc\u001b[0m\u001b[0;34m,\u001b[0m \u001b[0;34m**\u001b[0m\u001b[0mkwds\u001b[0m\u001b[0;34m)\u001b[0m\u001b[0;34m\u001b[0m\u001b[0;34m\u001b[0m\u001b[0m\n\u001b[0m\u001b[1;32m   1918\u001b[0m         \u001b[0mself\u001b[0m\u001b[0;34m.\u001b[0m\u001b[0munnamed_cols\u001b[0m \u001b[0;34m=\u001b[0m \u001b[0mself\u001b[0m\u001b[0;34m.\u001b[0m\u001b[0m_reader\u001b[0m\u001b[0;34m.\u001b[0m\u001b[0munnamed_cols\u001b[0m\u001b[0;34m\u001b[0m\u001b[0;34m\u001b[0m\u001b[0m\n\u001b[1;32m   1919\u001b[0m \u001b[0;34m\u001b[0m\u001b[0m\n",
      "\u001b[0;32mpandas/_libs/parsers.pyx\u001b[0m in \u001b[0;36mpandas._libs.parsers.TextReader.__cinit__\u001b[0;34m()\u001b[0m\n",
      "\u001b[0;32mpandas/_libs/parsers.pyx\u001b[0m in \u001b[0;36mpandas._libs.parsers.TextReader._setup_parser_source\u001b[0;34m()\u001b[0m\n",
      "\u001b[0;31mFileNotFoundError\u001b[0m: [Errno 2] File b'Google-Playstore-Full.csv' does not exist: b'Google-Playstore-Full.csv'"
     ]
    }
   ],
   "source": [
    "data_df=pd.read_csv(\"Google-Playstore-Full.csv\",low_memory=False)\n",
    "data_df=data_df[[\"App Name\",\"Category\",\"Rating\",\"Reviews\",\"Installs\",\"Size\",\"Price\",\"Content Rating\"]]\n",
    "data_df.dropna()\n",
    "data_df=data_df.rename(columns={\"App Name\":\"App_Name\"})\n",
    "data_df"
   ]
  },
  {
   "cell_type": "markdown",
   "metadata": {},
   "source": [
    "DATA CLEANING"
   ]
  },
  {
   "cell_type": "code",
   "execution_count": null,
   "metadata": {},
   "outputs": [],
   "source": [
    "#clean raw data\n",
    "data_df=data_df[~data_df.App_Name.str.contains(\"?\",na=False,regex=False)]"
   ]
  },
  {
   "cell_type": "code",
   "execution_count": null,
   "metadata": {},
   "outputs": [],
   "source": [
    "# clean price\n",
    "cleaned_df = data_df\n",
    "cleaned_df=cleaned_df[~cleaned_df.Price.str.contains(\"M\",na=False,regex=False)]\n",
    "cleaned_df=cleaned_df[~cleaned_df.Price.str.contains(\"+\",na=False,regex=False)]\n",
    "cleaned_df = cleaned_df[cleaned_df[\"Price\"] != 'Varies with device']\n",
    "cleaned_df[\"Price\"] = cleaned_df[\"Price\"].str.replace(\"$\",\"\").astype(float)"
   ]
  },
  {
   "cell_type": "code",
   "execution_count": null,
   "metadata": {},
   "outputs": [],
   "source": [
    "#clean install number\n",
    "cleaned_df = cleaned_df[cleaned_df[\"Installs\"] != 'EDUCATION']\n",
    "cleaned_df = cleaned_df[cleaned_df[\"Installs\"] != ' Xmax X']\n",
    "cleaned_df[\"Installs\"] = cleaned_df['Installs'].str.split(\"+\").str[0]\n",
    "cleaned_df[\"Installs\"] = cleaned_df[\"Installs\"].replace(',', \"\", regex=True)\n",
    "cleaned_df[\"Installs\"] = cleaned_df[\"Installs\"].astype(float)"
   ]
  },
  {
   "cell_type": "code",
   "execution_count": null,
   "metadata": {},
   "outputs": [],
   "source": [
    "# clean rating\n",
    "cleaned_df = cleaned_df[cleaned_df[\"Rating\"] != 'NEWS_AND_MAGAZINES']\n",
    "cleaned_df = cleaned_df[cleaned_df[\"Rating\"] != 'GAME_STRATEGY']\n",
    "cleaned_df[\"Rating\"] = cleaned_df[\"Rating\"].astype(float)\n",
    "cleaned_df.head()"
   ]
  },
  {
   "cell_type": "code",
   "execution_count": null,
   "metadata": {},
   "outputs": [],
   "source": [
    "#Clean Category\n",
    "cleaned_df[\"Category\"]=cleaned_df[\"Category\"].replace('_', ' ', regex=True)"
   ]
  },
  {
   "cell_type": "code",
   "execution_count": null,
   "metadata": {},
   "outputs": [],
   "source": [
    "#Clean Reviews\n",
    "cleaned_df[\"Reviews\"]=cleaned_df[\"Reviews\"].astype(float)"
   ]
  },
  {
   "cell_type": "code",
   "execution_count": null,
   "metadata": {},
   "outputs": [],
   "source": [
    "#finish data cleaning \n",
    "cleaned_df=cleaned_df.rename(columns={\"App_Name\":\"App Name\"})\n",
    "value_counts = cleaned_df[\"Category\"].value_counts()\n",
    "to_remove = value_counts[value_counts <= 1].index\n",
    "cleaned_df= cleaned_df[~cleaned_df.Category.isin(to_remove)]"
   ]
  },
  {
   "cell_type": "code",
   "execution_count": null,
   "metadata": {},
   "outputs": [],
   "source": [
    "# cleaned_df1 is for general categories\n",
    "cleaned_df1 = cleaned_df.replace(\n",
    "    {\"GAME PUZZLE\": \"GAME\",\n",
    "\"GAME CASUAL\": \"GAME\",\n",
    "\"GAME ARCADE\": \"GAME\",\n",
    "\"GAME ACTION\": \"GAME\",\n",
    "\"GAME SIMULATION\": \"GAME\",\n",
    "\"GAME CARD\": \"GAME\",\n",
    "\"GAME EDUCATIONAL\": \"GAME\",\n",
    "\"GAME ROLE PLAYING\": \"GAME\",\n",
    "\"GAME STRATEGY\": \"GAME\",\n",
    "\"GAME RACING\": \"GAME\",\n",
    "\"GAME ADVENTURE\": \"GAME\",\n",
    "\"GAME SPORTS\": \"GAME\",\n",
    "\"GAME WORD\": \"GAME\",\n",
    "\"GAME BOARD\": \"GAME\",\n",
    "\"GAME CASINO\": \"GAME\",\n",
    "\"GAME TRIVIA\": \"GAME\",\n",
    "\"GAME MUSIC\": \"GAME\",\n",
    "})\n",
    "cleaned_df1[\"Category\"].value_counts()"
   ]
  },
  {
   "cell_type": "markdown",
   "metadata": {},
   "source": [
    "Top Install Apps"
   ]
  },
  {
   "cell_type": "code",
   "execution_count": null,
   "metadata": {},
   "outputs": [],
   "source": [
    "Top_5_install_app = cleaned_df1.sort_values(by='Installs', ascending=False).loc[:,('App Name', 'Category', 'Rating', 'Reviews', 'Installs')].reset_index()\n",
    "Top_5_install_app = Top_5_install_app.drop(['index'], axis=1)\n",
    "Top_5_install_app.head(5)"
   ]
  },
  {
   "cell_type": "markdown",
   "metadata": {},
   "source": [
    "Top Rated Apps"
   ]
  },
  {
   "cell_type": "code",
   "execution_count": null,
   "metadata": {},
   "outputs": [],
   "source": [
    "Top_5_Rating_app = cleaned_df1.sort_values(by='Rating', ascending=False).loc[:,('App Name', 'Category', 'Rating', 'Reviews', 'Installs')].reset_index()\n",
    "Top_5_Rating_app = Top_5_Rating_app.drop(['index'], axis=1)\n",
    "Top_5_Rating_app.head(5)"
   ]
  },
  {
   "cell_type": "markdown",
   "metadata": {},
   "source": [
    "Most Reviewed Apps"
   ]
  },
  {
   "cell_type": "code",
   "execution_count": null,
   "metadata": {},
   "outputs": [],
   "source": [
    "Top_5_Reviews_app = cleaned_df1.sort_values(by='Reviews', ascending=False).loc[:,('App Name', 'Category', 'Rating', 'Reviews', 'Installs')].reset_index()\n",
    "Top_5_Reviews_app = Top_5_Reviews_app.drop(['index'], axis=1)\n",
    "Top_5_Reviews_app.head(5)"
   ]
  },
  {
   "cell_type": "markdown",
   "metadata": {},
   "source": [
    "Summary Tables & Scatter Plots"
   ]
  },
  {
   "cell_type": "code",
   "execution_count": null,
   "metadata": {},
   "outputs": [],
   "source": [
    "cleaned_df2 = cleaned_df1\n",
    "cleaned_df2=cleaned_df2.rename(columns={\"Content Rating\":\"Number of Apps\"})\n",
    "groupby = cleaned_df2.groupby([\"Category\"], as_index=False)\n",
    "install_sum = groupby[\"Installs\"].sum()"
   ]
  },
  {
   "cell_type": "code",
   "execution_count": null,
   "metadata": {},
   "outputs": [],
   "source": [
    "category_count = groupby[\"Number of Apps\"].count()"
   ]
  },
  {
   "cell_type": "code",
   "execution_count": null,
   "metadata": {},
   "outputs": [],
   "source": [
    "rating_mean = groupby[\"Rating\"].mean()"
   ]
  },
  {
   "cell_type": "code",
   "execution_count": null,
   "metadata": {},
   "outputs": [],
   "source": [
    "review_sum = groupby[\"Reviews\"].sum()"
   ]
  },
  {
   "cell_type": "code",
   "execution_count": null,
   "metadata": {},
   "outputs": [],
   "source": [
    "result = pd.merge(category_count, install_sum, on='Category', how='left')\n",
    "result2 = pd.merge(result, rating_mean, on='Category', how='left')\n",
    "result3 = pd.merge(result2, review_sum, on='Category', how='left')\n",
    "result3['Average Installs Per App'] = result3['Installs']/result3['Number of Apps']\n",
    "result3"
   ]
  },
  {
   "cell_type": "code",
   "execution_count": null,
   "metadata": {},
   "outputs": [],
   "source": [
    "plt.scatter(result3['Reviews'],result3['Installs'],c=result3['Rating'])\n",
    "clb = plt.colorbar()\n",
    "plt.xlabel(\"Reviews\")\n",
    "plt.ylabel(\"Installs\")\n",
    "clb.set_label(\"Rating\")\n",
    "plt.title('Reviews & Total Installs by Category',y=1.05)\n",
    "plt.show()"
   ]
  },
  {
   "cell_type": "code",
   "execution_count": null,
   "metadata": {},
   "outputs": [],
   "source": [
    "plt.savefig(\"Results/Reviews & Installs by Category.png\")"
   ]
  },
  {
   "cell_type": "code",
   "execution_count": null,
   "metadata": {},
   "outputs": [],
   "source": [
    "plt.scatter(result3['Rating'],result3['Installs'],c=result3['Reviews'])\n",
    "clb = plt.colorbar()\n",
    "plt.xlabel(\"Rating\")\n",
    "plt.ylabel(\"Installs\")\n",
    "clb.set_label(\"Reviews\")\n",
    "plt.title('Rating & Total Installs by Category')\n",
    "plt.show()"
   ]
  },
  {
   "cell_type": "code",
   "execution_count": null,
   "metadata": {},
   "outputs": [],
   "source": [
    "plt.savefig(\"Results/Rating & Installs by Category.png\")"
   ]
  },
  {
   "cell_type": "code",
   "execution_count": null,
   "metadata": {},
   "outputs": [],
   "source": [
    "plt.scatter(result3['Number of Apps'],result3['Installs'],c=result3['Rating'])\n",
    "clb = plt.colorbar()\n",
    "plt.xlabel(\"Number of Apps\")\n",
    "plt.ylabel(\"Installs\")\n",
    "clb.set_label(\"Rating\")\n",
    "plt.title('Number of Apps & Total Installs by Category',y=1.05)\n",
    "plt.show()"
   ]
  },
  {
   "cell_type": "code",
   "execution_count": null,
   "metadata": {},
   "outputs": [],
   "source": [
    "plt.savefig(\"Results/Number of Apps & Installs by Category.png\")"
   ]
  },
  {
   "cell_type": "code",
   "execution_count": null,
   "metadata": {},
   "outputs": [],
   "source": [
    "plt.scatter(result3['Number of Apps'],result3['Average Installs Per App'],c=result3['Rating'])\n",
    "clb = plt.colorbar()\n",
    "plt.xlabel(\"Number of Apps\")\n",
    "plt.ylabel(\"Average Installs\")\n",
    "clb.set_label(\"Rating\")\n",
    "plt.title('Number of Apps & Average Installs by Category')\n",
    "plt.show()"
   ]
  },
  {
   "cell_type": "code",
   "execution_count": null,
   "metadata": {},
   "outputs": [],
   "source": [
    "plt.savefig(\"Results/Number of Apps & Average Installs by Category.png\")"
   ]
  },
  {
   "cell_type": "code",
   "execution_count": null,
   "metadata": {},
   "outputs": [],
   "source": [
    "plt.scatter(result3['Rating'],result3['Average Installs Per App'],c=result3['Number of Apps'])\n",
    "clb = plt.colorbar()\n",
    "plt.xlabel(\"Rating\")\n",
    "plt.ylabel(\"Average Installs\")\n",
    "clb.set_label(\"Number of Apps\")\n",
    "plt.title('Rating & Average Installs by Category')\n",
    "plt.show()"
   ]
  },
  {
   "cell_type": "code",
   "execution_count": null,
   "metadata": {},
   "outputs": [],
   "source": [
    "plt.savefig(\"Results/Rating & Average Installs by Category.png\")"
   ]
  },
  {
   "cell_type": "markdown",
   "metadata": {},
   "source": [
    "APP ANALYSIS BY CATEGORY"
   ]
  },
  {
   "cell_type": "code",
   "execution_count": null,
   "metadata": {},
   "outputs": [],
   "source": [
    "apps=cleaned_df1.groupby([\"Category\"])\n",
    "review_category=apps[\"Reviews\"].sum()/1000"
   ]
  },
  {
   "cell_type": "code",
   "execution_count": null,
   "metadata": {},
   "outputs": [],
   "source": [
    "category_key=apps.groups.keys()"
   ]
  },
  {
   "cell_type": "code",
   "execution_count": null,
   "metadata": {},
   "outputs": [],
   "source": [
    "fig, ax = plt.subplots(figsize=(100,50))\n",
    "x_index = np.arange(len(apps[\"Reviews\"]))  \n",
    "total_review = ax.bar(x_index[0:], review_category[0:], color='lightblue')\n",
    "ax.set_title('Google Play - Total Reviews For Each Category',fontsize=100)\n",
    "ax.set_ylabel('Total Number of Reviews (in 1,000)',fontsize=80)\n",
    "ax.set_xlabel('App Category',fontsize=80)\n",
    "ax.set_xticks(x_index+0.3)\n",
    "ax.tick_params(axis=\"y\", labelsize=60)\n",
    "ax.set_xticklabels(category_key,fontsize=50)\n",
    "plt.xticks(rotation=60, ha='right')\n",
    "ax.grid(True)\n",
    "def label(numbers,fontsize,labelheight,roundnumber):\n",
    "    for x in numbers:\n",
    "        height = x.get_height()\n",
    "        xloc=x.get_x() + x.get_width() / 2\n",
    "        label=(f'{round(height,roundnumber)}')\n",
    "        ax.text(xloc,height+labelheight,label,ha='center', va='bottom',color=\"black\",fontsize=fontsize)\n",
    "label(total_review,40,100,0)"
   ]
  },
  {
   "cell_type": "code",
   "execution_count": null,
   "metadata": {},
   "outputs": [],
   "source": [
    "fig.savefig(\"Results/Category vs. Total Review.png\")"
   ]
  },
  {
   "cell_type": "code",
   "execution_count": null,
   "metadata": {},
   "outputs": [],
   "source": [
    "avg_rating=apps[\"Rating\"].mean()"
   ]
  },
  {
   "cell_type": "code",
   "execution_count": null,
   "metadata": {},
   "outputs": [],
   "source": [
    "fig,ax = plt.subplots(figsize=(30,10))\n",
    "x_index = np.arange(len(apps[\"Rating\"]))  \n",
    "avg_rating1 = ax.bar(x_index[0:], avg_rating[0:], color='lightblue')\n",
    "ax.set_title('Google Play - Average App Rating For Each Category',fontsize=40)\n",
    "ax.set_ylabel('Average Rating',fontsize=30)\n",
    "ax.set_xlabel('App Category',fontsize=30)\n",
    "ax.set_xticks(x_index+0.2)\n",
    "ax.tick_params(axis=\"y\", labelsize=20)\n",
    "ax.set_xticklabels(category_key,fontsize=20)\n",
    "plt.xticks(rotation=60, ha='right')\n",
    "ax.grid(True)\n",
    "label(avg_rating1,15,0.05,2)"
   ]
  },
  {
   "cell_type": "code",
   "execution_count": null,
   "metadata": {},
   "outputs": [],
   "source": [
    "fig.savefig(\"Results/Category vs. Agv Rating.png\")"
   ]
  },
  {
   "cell_type": "code",
   "execution_count": null,
   "metadata": {},
   "outputs": [],
   "source": [
    "groupby1 = cleaned_df1.groupby([\"Category\"])\n",
    "install_sum1 = groupby1[\"Installs\"].sum()/10000"
   ]
  },
  {
   "cell_type": "code",
   "execution_count": null,
   "metadata": {},
   "outputs": [],
   "source": [
    "fig,ax = plt.subplots(figsize=(100,50))\n",
    "x_index = np.arange(len(groupby[\"Installs\"]))  \n",
    "total_installs = ax.bar(x_index[0:], install_sum1[0:], color='lightblue')\n",
    "ax.set_title('Google Play - Total Installs For Each Category',fontsize=100)\n",
    "ax.set_ylabel('Total Number of Installs (in 10,000)',fontsize=80)\n",
    "ax.set_xlabel('App Category',fontsize=80)\n",
    "ax.set_xticks(x_index+0.3)\n",
    "ax.tick_params(axis=\"y\", labelsize=60)\n",
    "ax.set_xticklabels(category_key,fontsize=50)\n",
    "plt.xticks(rotation=60, ha='right')\n",
    "ax.grid(True)\n",
    "label(total_installs,40,100,0)"
   ]
  },
  {
   "cell_type": "code",
   "execution_count": null,
   "metadata": {},
   "outputs": [],
   "source": [
    "fig.savefig(\"Results/Category vs. Total Installs.png\")"
   ]
  },
  {
   "cell_type": "code",
   "execution_count": null,
   "metadata": {},
   "outputs": [],
   "source": [
    "category_count = groupby1[\"App Name\"].count()\n",
    "average_installs = install_sum1/category_count\n",
    "fig,ax = plt.subplots(figsize=(30,10))\n",
    "x_index = np.arange(len(average_installs))  \n",
    "avg_installs = ax.bar(x_index[0:], average_installs[0:], color='lightblue')\n",
    "ax.set_title('Google Play - Average App Installs For Each Category',fontsize=40)\n",
    "ax.set_ylabel('Average Installs (in 10,000)',fontsize=30)\n",
    "ax.set_xlabel('App Category',fontsize=30)\n",
    "ax.set_xticks(x_index+0.2)\n",
    "ax.tick_params(axis=\"y\", labelsize=20)\n",
    "ax.set_xticklabels(category_key,fontsize=20)\n",
    "plt.xticks(rotation=60, ha='right')\n",
    "ax.grid(True)\n",
    "label(avg_installs,15,0.05,2)"
   ]
  },
  {
   "cell_type": "code",
   "execution_count": null,
   "metadata": {},
   "outputs": [],
   "source": [
    "fig.savefig(\"Results/Category vs. Average Installs.png\")"
   ]
  },
  {
   "cell_type": "code",
   "execution_count": null,
   "metadata": {},
   "outputs": [],
   "source": [
    "paid_app=cleaned_df1[cleaned_df1[\"Price\"]!=0]\n",
    "free_app=cleaned_df1[cleaned_df1[\"Price\"]==0]\n",
    "free_count=free_app[\"App Name\"].count()\n",
    "paid_count=paid_app[\"App Name\"].count()\n",
    "free_install=free_app[\"Installs\"].sum()\n",
    "paid_install=paid_app[\"Installs\"].sum()\n",
    "avg_install_free=free_install/free_count\n",
    "avg_install_paid=paid_install/paid_count"
   ]
  },
  {
   "cell_type": "code",
   "execution_count": null,
   "metadata": {},
   "outputs": [],
   "source": [
    "#Take out Google & YouTube\n",
    "cleaned_df3=cleaned_df2\n",
    "cleaned_df3=cleaned_df3[cleaned_df3[\"App Name\"] != 'Google']\n",
    "cleaned_df3=cleaned_df3[cleaned_df3[\"App Name\"] != 'YouTube']\n",
    "groupby2 = cleaned_df3.groupby([\"Category\"])\n",
    "install_sum2 = groupby2[\"Installs\"].sum()/10000\n",
    "average_installs1= install_sum2/category_count"
   ]
  },
  {
   "cell_type": "code",
   "execution_count": null,
   "metadata": {},
   "outputs": [],
   "source": [
    "fig,ax = plt.subplots(figsize=(30,10))\n",
    "x_index = np.arange(len(average_installs1))  \n",
    "avg_installs = ax.bar(x_index[0:], average_installs1[0:], color='lightblue')\n",
    "ax.set_title('Google Play - Average App Installs For Each Category (w/o Default Apps)',fontsize=40)\n",
    "ax.set_ylabel('Average Installs (in 10,000)',fontsize=30)\n",
    "ax.set_xlabel('App Category',fontsize=30)\n",
    "ax.set_xticks(x_index+0.2)\n",
    "ax.tick_params(axis=\"y\", labelsize=20)\n",
    "ax.set_xticklabels(category_key,fontsize=20)\n",
    "plt.xticks(rotation=60, ha='right')\n",
    "ax.grid(True)\n",
    "label(avg_installs,15,0.05,2)"
   ]
  },
  {
   "cell_type": "code",
   "execution_count": null,
   "metadata": {},
   "outputs": [],
   "source": [
    "fig.savefig(\"Results/Category vs. Average Installs (no Default Apps).png\")"
   ]
  },
  {
   "cell_type": "code",
   "execution_count": null,
   "metadata": {},
   "outputs": [],
   "source": [
    "install_median1 = groupby1[\"Installs\"].median()\n",
    "install_median1"
   ]
  },
  {
   "cell_type": "code",
   "execution_count": null,
   "metadata": {},
   "outputs": [],
   "source": [
    "fig,ax = plt.subplots(figsize=(30,10))\n",
    "x_index = np.arange(len(install_median1))  \n",
    "install_med = ax.bar(x_index[0:], install_median1[0:], color='lightblue')\n",
    "ax.set_title('Google Play - Median Installs',fontsize=40)\n",
    "ax.set_ylabel('Median Installs',fontsize=30)\n",
    "ax.set_xlabel('App Category',fontsize=30)\n",
    "ax.set_xticks(x_index+0.2)\n",
    "ax.tick_params(axis=\"y\", labelsize=20)\n",
    "ax.set_xticklabels(category_key,fontsize=20)\n",
    "plt.xticks(rotation=60, ha='right')\n",
    "ax.grid(True)\n",
    "label(install_med,15,0.05,2)"
   ]
  },
  {
   "cell_type": "code",
   "execution_count": null,
   "metadata": {},
   "outputs": [],
   "source": [
    "fig.savefig(\"Results/Category vs. Median Installs.png\")"
   ]
  },
  {
   "cell_type": "code",
   "execution_count": null,
   "metadata": {},
   "outputs": [],
   "source": [
    "fig,ax = plt.subplots(figsize=(5,5))\n",
    "x_index = (np.arange(2))  \n",
    "y_index=(avg_install_free,avg_install_paid)\n",
    "price_install= ax.bar(x_index[0:], y_index[0:], color='lightblue',width=0.5)\n",
    "ax.set_title('Google Play - Average Installs for Paid Apps and Free Apps',fontsize=15)\n",
    "ax.set_ylabel('Average Installs',fontsize=15)\n",
    "ax.set_xlabel('App Type',fontsize=15)\n",
    "ax.set_xticks(x_index)\n",
    "ax.set_ylim([0, 820000])\n",
    "ax.tick_params(axis=\"y\", labelsize=10)\n",
    "ax.set_xticklabels([\"Free App\",\"Paid App\"],fontsize=10)\n",
    "ax.yaxis.grid(True)\n",
    "label(price_install,12,5000,0)"
   ]
  },
  {
   "cell_type": "code",
   "execution_count": null,
   "metadata": {},
   "outputs": [],
   "source": [
    "fig.savefig(\"Results/Price vs. Total Install.png\")"
   ]
  },
  {
   "cell_type": "markdown",
   "metadata": {},
   "source": [
    "GAME APP ANALYSIS"
   ]
  },
  {
   "cell_type": "code",
   "execution_count": null,
   "metadata": {},
   "outputs": [],
   "source": [
    "game_df= cleaned_df\n",
    "game_df=game_df[game_df['Category'].str.contains('GAME', regex=False)]\n",
    "game_df.head()"
   ]
  },
  {
   "cell_type": "code",
   "execution_count": null,
   "metadata": {},
   "outputs": [],
   "source": [
    "game_sub=game_df.groupby(\"Category\")\n",
    "game_review=game_sub[\"Reviews\"].sum()/1000\n",
    "game_key=game_sub.groups.keys()\n",
    "game_app_count=game_sub[\"App Name\"].count()\n",
    "game_install_sum=game_sub[\"Installs\"].sum()/1000\n",
    "game_install_avg=game_sub[\"Installs\"].sum()/game_app_count"
   ]
  },
  {
   "cell_type": "code",
   "execution_count": null,
   "metadata": {},
   "outputs": [],
   "source": [
    "fig, ax = plt.subplots(figsize=(100,50))\n",
    "x_index = np.arange(len(game_sub[\"Rating\"]))  \n",
    "game_total_review = ax.bar(x_index[0:], game_review[0:], color='lightblue')\n",
    "ax.set_title('Google Play - Total Reviews For Each Game Sub-category',fontsize=100)\n",
    "ax.set_ylabel('Total Number of Reviews (in 1,000)',fontsize=80)\n",
    "ax.set_xlabel('Game App Category',fontsize=80)\n",
    "ax.set_xticks(x_index-0.3)\n",
    "ax.tick_params(axis=\"y\", labelsize=60)\n",
    "ax.set_xticklabels(game_key,fontsize=50,rotation=60)\n",
    "ax.grid(True)\n",
    "label(game_total_review,60,100,0)"
   ]
  },
  {
   "cell_type": "code",
   "execution_count": null,
   "metadata": {},
   "outputs": [],
   "source": [
    "fig.savefig(\"Results/Game Category vs. Total Review.png\")"
   ]
  },
  {
   "cell_type": "code",
   "execution_count": null,
   "metadata": {},
   "outputs": [],
   "source": [
    "game_avg_rating=game_sub[\"Rating\"].mean()"
   ]
  },
  {
   "cell_type": "code",
   "execution_count": null,
   "metadata": {},
   "outputs": [],
   "source": [
    "fig,ax = plt.subplots(figsize=(30,10))\n",
    "x_index = np.arange(len(game_sub[\"Rating\"]))  \n",
    "game_avg_rating1 = ax.bar(x_index[0:], game_avg_rating[0:], color='lightblue')\n",
    "ax.set_title('Google Play - Average Rating For Each Game Sub-category',fontsize=35)\n",
    "ax.set_ylabel('Average Rating',fontsize=30)\n",
    "ax.set_xlabel('Game App Category',fontsize=30)\n",
    "ax.set_xticks(x_index+0.2)\n",
    "ax.tick_params(axis=\"y\", labelsize=20)\n",
    "ax.set_xticklabels(game_key,fontsize=20)\n",
    "plt.xticks(rotation=40, ha='right')\n",
    "ax.grid(True)\n",
    "label(game_avg_rating1,15,0.05,2)"
   ]
  },
  {
   "cell_type": "code",
   "execution_count": null,
   "metadata": {},
   "outputs": [],
   "source": [
    "fig.savefig(\"Results/Game Category vs. Avg Reviw.png\")"
   ]
  },
  {
   "cell_type": "code",
   "execution_count": null,
   "metadata": {},
   "outputs": [],
   "source": [
    "fig,ax = plt.subplots(figsize=(100,50))\n",
    "x_index = np.arange(len(game_sub[\"Installs\"]))  \n",
    "total_installs_game = ax.bar(x_index[0:], game_install_sum[0:], color='lightblue')\n",
    "ax.set_title('Google Play - Total Installs For Each Game Sub-category',fontsize=100)\n",
    "ax.set_ylabel('Total Number of Installs (in 1,000)',fontsize=80)\n",
    "ax.set_xlabel('Game App Category',fontsize=80)\n",
    "ax.set_xticks(x_index+0.3)\n",
    "ax.tick_params(axis=\"y\", labelsize=60)\n",
    "ax.set_xticklabels(game_key,fontsize=50)\n",
    "plt.xticks(rotation=60, ha='right')\n",
    "ax.grid(True)\n",
    "label(total_installs_game,50,100,0)"
   ]
  },
  {
   "cell_type": "code",
   "execution_count": null,
   "metadata": {},
   "outputs": [],
   "source": [
    "fig.savefig(\"Results/Game Category vs. Total Installs.png\")"
   ]
  },
  {
   "cell_type": "code",
   "execution_count": null,
   "metadata": {},
   "outputs": [],
   "source": [
    "fig,ax = plt.subplots(figsize=(100,50))\n",
    "x_index = np.arange(len(game_install_avg))  \n",
    "avg_installs_game = ax.bar(x_index[0:], game_install_avg[0:], color='lightblue')\n",
    "ax.set_title('Google Play - Average Installs For Each Category (Game)',fontsize=100)\n",
    "ax.set_ylabel('Average Number of Installs',fontsize=80)\n",
    "ax.set_xlabel('Game App Category',fontsize=80)\n",
    "ax.set_xticks(x_index+0.3)\n",
    "ax.tick_params(axis=\"y\", labelsize=60)\n",
    "ax.set_xticklabels(game_key,fontsize=50)\n",
    "plt.xticks(rotation=60, ha='right')\n",
    "ax.grid(True)\n",
    "label(avg_installs_game,55,1000,0)"
   ]
  },
  {
   "cell_type": "code",
   "execution_count": null,
   "metadata": {},
   "outputs": [],
   "source": [
    "fig.savefig(\"Results/Game Category vs. Average Installs.png\")"
   ]
  },
  {
   "cell_type": "code",
   "execution_count": null,
   "metadata": {},
   "outputs": [],
   "source": [
    "paid_game_app=game_df[game_df[\"Price\"]!=0]\n",
    "free_game_app=game_df[game_df[\"Price\"]==0]\n",
    "free_game_count=free_game_app[\"App Name\"].count()\n",
    "paid_game_count=paid_game_app[\"App Name\"].count()\n",
    "free_game_install=free_game_app[\"Installs\"].sum()\n",
    "paid_game_install=paid_game_app[\"Installs\"].sum()\n",
    "avg_install_free_game=free_game_install/free_game_count\n",
    "avg_install_paid_game=paid_game_install/paid_game_count"
   ]
  },
  {
   "cell_type": "code",
   "execution_count": null,
   "metadata": {},
   "outputs": [],
   "source": [
    "fig,ax = plt.subplots(figsize=(6,5))\n",
    "x_index = (np.arange(2))  \n",
    "y_index=(avg_install_free_game,avg_install_paid_game)\n",
    "game_price_install= ax.bar(x_index[0:], y_index[0:], color='lightblue',width=0.5)\n",
    "ax.set_title('Google Play - Average Installs for Paid Apps and Free Apps (Game)',fontsize=15)\n",
    "ax.set_ylabel('Average Installs',fontsize=15)\n",
    "ax.set_xlabel('App Type',fontsize=15)\n",
    "ax.set_xticks(x_index)\n",
    "ax.set_ylim([0, 2800000])\n",
    "ax.tick_params(axis=\"y\", labelsize=10)\n",
    "ax.set_xticklabels([\"Free App\",\"Paid App\"],fontsize=10)\n",
    "ax.yaxis.grid(True)\n",
    "label(game_price_install,13,50000,0)"
   ]
  },
  {
   "cell_type": "code",
   "execution_count": null,
   "metadata": {},
   "outputs": [],
   "source": [
    "fig.savefig(\"Results/Game: Price vs. Total Install.png\")"
   ]
  },
  {
   "cell_type": "code",
   "execution_count": null,
   "metadata": {},
   "outputs": [],
   "source": []
  }
 ],
 "metadata": {
  "kernelspec": {
   "display_name": "Python 3",
   "language": "python",
   "name": "python3"
  },
  "language_info": {
   "codemirror_mode": {
    "name": "ipython",
    "version": 3
   },
   "file_extension": ".py",
   "mimetype": "text/x-python",
   "name": "python",
   "nbconvert_exporter": "python",
   "pygments_lexer": "ipython3",
   "version": "3.6.9"
  }
 },
 "nbformat": 4,
 "nbformat_minor": 2
}
